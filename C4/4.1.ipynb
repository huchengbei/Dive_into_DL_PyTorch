{
 "cells": [
  {
   "cell_type": "code",
   "execution_count": 1,
   "metadata": {},
   "outputs": [],
   "source": [
    "import torch\n",
    "from torch import nn"
   ]
  },
  {
   "cell_type": "code",
   "execution_count": 6,
   "metadata": {},
   "outputs": [],
   "source": [
    "class MLP(nn.Module):\n",
    "    def __init__(self, **kwargs):\n",
    "        super(MLP, self).__init__(**kwargs)\n",
    "        self.hidden = nn.Linear(784, 256)\n",
    "        self.act = nn.ReLU()\n",
    "        self.out = nn.Linear(256, 10)\n",
    "    \n",
    "    def forward(self, X):\n",
    "        a = self.act(self.hidden(X))\n",
    "        return self.out(a)"
   ]
  },
  {
   "cell_type": "code",
   "execution_count": 7,
   "metadata": {},
   "outputs": [
    {
     "name": "stdout",
     "output_type": "stream",
     "text": [
      "MLP(\n",
      "  (hidden): Linear(in_features=784, out_features=256, bias=True)\n",
      "  (act): ReLU()\n",
      "  (out): Linear(in_features=256, out_features=10, bias=True)\n",
      ")\n",
      "tensor([[ 0.2381,  0.1006,  0.0345, -0.1644, -0.2518,  0.1688,  0.0519,  0.1672,\n",
      "         -0.1499, -0.2664],\n",
      "        [ 0.3583,  0.1020, -0.0136, -0.0600, -0.1462,  0.0764, -0.1216,  0.1081,\n",
      "         -0.1670, -0.3010]], grad_fn=<AddmmBackward>)\n"
     ]
    }
   ],
   "source": [
    "X = torch.rand(2, 784)\n",
    "net = MLP()\n",
    "print(net)\n",
    "print(net(X))"
   ]
  },
  {
   "cell_type": "code",
   "execution_count": 10,
   "metadata": {},
   "outputs": [],
   "source": [
    "class FancyMLP(nn.Module):\n",
    "    def __init__(self, **kwargs):\n",
    "        super(FancyMLP, self).__init__(**kwargs)\n",
    "        \n",
    "        self.rand_weght = torch.rand((20, 20), requires_grad=False)\n",
    "        self.linear = nn.Linear(20, 20)\n",
    "    \n",
    "    def forward(self, X):\n",
    "        X = self.linear(X)\n",
    "        \n",
    "        x = nn.functional.relu(torch.mm(X, self.rand_weght.data) + 1)\n",
    "        \n",
    "        X = self.linear(X)\n",
    "        \n",
    "        while X.norm().item() > 1:\n",
    "            X /= 2\n",
    "        if  x.norm().item() < 0.8:\n",
    "            X *= 10\n",
    "        return X            "
   ]
  },
  {
   "cell_type": "code",
   "execution_count": 11,
   "metadata": {},
   "outputs": [
    {
     "name": "stdout",
     "output_type": "stream",
     "text": [
      "FancyMLP(\n",
      "  (linear): Linear(in_features=20, out_features=20, bias=True)\n",
      ")\n",
      "tensor([[ 0.1236,  0.0048,  0.0648,  0.1011, -0.0503, -0.0592, -0.1691, -0.0377,\n",
      "          0.2186, -0.0950, -0.0740,  0.0694,  0.1484, -0.0791,  0.1059, -0.0539,\n",
      "         -0.0006, -0.1570, -0.0114,  0.0101],\n",
      "        [ 0.0956,  0.1526,  0.0554,  0.0089,  0.0241,  0.0204, -0.2129,  0.0069,\n",
      "          0.2180, -0.0664, -0.0676,  0.0297,  0.2065, -0.0244,  0.1270, -0.1726,\n",
      "          0.0064, -0.0073, -0.0215,  0.0511]], grad_fn=<DivBackward0>)\n"
     ]
    }
   ],
   "source": [
    "X = torch.rand(2, 20)\n",
    "net = FancyMLP()\n",
    "print(net)\n",
    "print(net(X))"
   ]
  },
  {
   "cell_type": "code",
   "execution_count": null,
   "metadata": {},
   "outputs": [],
   "source": []
  }
 ],
 "metadata": {
  "kernelspec": {
   "display_name": "Python 3",
   "language": "python",
   "name": "python3"
  },
  "language_info": {
   "codemirror_mode": {
    "name": "ipython",
    "version": 3
   },
   "file_extension": ".py",
   "mimetype": "text/x-python",
   "name": "python",
   "nbconvert_exporter": "python",
   "pygments_lexer": "ipython3",
   "version": "3.6.9"
  }
 },
 "nbformat": 4,
 "nbformat_minor": 4
}
